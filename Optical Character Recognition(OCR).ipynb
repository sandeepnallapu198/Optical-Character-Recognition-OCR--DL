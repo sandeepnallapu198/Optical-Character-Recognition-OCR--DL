{
 "cells": [
  {
   "cell_type": "code",
   "execution_count": 1,
   "id": "74c269fb",
   "metadata": {},
   "outputs": [
    {
     "name": "stdout",
     "output_type": "stream",
     "text": [
      "Requirement already satisfied: pytesseract in c:\\users\\hai\\anaconda3\\lib\\site-packages (0.3.10)Note: you may need to restart the kernel to use updated packages.\n",
      "\n",
      "Requirement already satisfied: Pillow>=8.0.0 in c:\\users\\hai\\anaconda3\\lib\\site-packages (from pytesseract) (9.2.0)\n",
      "Requirement already satisfied: packaging>=21.3 in c:\\users\\hai\\anaconda3\\lib\\site-packages (from pytesseract) (21.3)\n",
      "Requirement already satisfied: pyparsing!=3.0.5,>=2.0.2 in c:\\users\\hai\\anaconda3\\lib\\site-packages (from packaging>=21.3->pytesseract) (3.0.9)\n"
     ]
    }
   ],
   "source": [
    "pip install pytesseract"
   ]
  },
  {
   "cell_type": "code",
   "execution_count": 2,
   "id": "b3cbc995",
   "metadata": {},
   "outputs": [],
   "source": [
    "try:\n",
    "    from PIL import Image\n",
    "except ImportError:\n",
    "    import Image\n",
    "    \n",
    "import pytesseract\n",
    "    \n",
    "#pytesseract OCR file\n",
    "pytesseract.pytesseract.tesseract_cmd=r\"C:\\Program Files\\Tesseract-OCR\\tesseract.exe\""
   ]
  },
  {
   "cell_type": "code",
   "execution_count": 4,
   "id": "b7b45b70",
   "metadata": {},
   "outputs": [
    {
     "name": "stdout",
     "output_type": "stream",
     "text": [
      "january\n",
      "\n",
      "2016\n",
      "\n",
      "Lorem ipsum dolor sit amet, consectetur adipiscing elit, sed do ei-\n",
      "usmod tempor incididunt ut labore et dolore magna aliqua. Ut\n",
      "enim ad minim veniam, quis nostrud exercitation ullamco laboris\n",
      "\n",
      "nisi ut aliquip ex ea commodo consequat. Duis aute irure dolor in\n",
      "reprehenderit in voluptate velit esse cillum dolore eu fugiat nulla\n",
      "pariatur. Excepteur sint occaecat cupidatat non proident, sunt in\n",
      "culpa qui officia deserunt mollit anim id est laborum. Lorem ipsum\n",
      "dolor sit amet, consectetur adipiscing elit, sed do eiusmod tempor\n",
      "incididunt ut labore et dolore magna aliqua. Ut enim ad minim\n",
      "\n",
      " \n",
      "\f",
      "\n",
      "written successfully\n"
     ]
    }
   ],
   "source": [
    "def recText(filename):\n",
    "    text=pytesseract.image_to_string(Image.open(filename))\n",
    "    return text\n",
    "info=recText(\"C:\\\\Users\\\\HAI\\\\Downloads\\\\beautiful-text-background-template-vector.jpg\")\n",
    "print(info)\n",
    "file=open('res.xt','w')\n",
    "file.write(info)\n",
    "file.close()\n",
    "print('written successfully')"
   ]
  },
  {
   "cell_type": "code",
   "execution_count": null,
   "id": "c1e4fa90",
   "metadata": {},
   "outputs": [],
   "source": []
  },
  {
   "cell_type": "code",
   "execution_count": null,
   "id": "c7f543f6",
   "metadata": {},
   "outputs": [],
   "source": []
  }
 ],
 "metadata": {
  "kernelspec": {
   "display_name": "Python 3 (ipykernel)",
   "language": "python",
   "name": "python3"
  },
  "language_info": {
   "codemirror_mode": {
    "name": "ipython",
    "version": 3
   },
   "file_extension": ".py",
   "mimetype": "text/x-python",
   "name": "python",
   "nbconvert_exporter": "python",
   "pygments_lexer": "ipython3",
   "version": "3.9.13"
  }
 },
 "nbformat": 4,
 "nbformat_minor": 5
}
